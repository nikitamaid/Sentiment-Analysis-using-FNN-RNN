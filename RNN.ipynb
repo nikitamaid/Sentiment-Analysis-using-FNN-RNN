{
 "cells": [
  {
   "cell_type": "markdown",
   "id": "a1900683",
   "metadata": {},
   "source": [
    "# Recurrent Neural Network"
   ]
  },
  {
   "cell_type": "code",
   "execution_count": 1,
   "id": "ca8bdb67",
   "metadata": {},
   "outputs": [],
   "source": [
    "import pandas as pd\n",
    "# Successfully installed pandas-1.3.3\n",
    "import numpy as np\n",
    "# Successfully installed fsspec-2021.8.1"
   ]
  },
  {
   "cell_type": "code",
   "execution_count": 2,
   "id": "82c270c7",
   "metadata": {},
   "outputs": [],
   "source": [
    "import gensim.downloader as api\n",
    "pretrained_model = api.load('word2vec-google-news-300')"
   ]
  },
  {
   "cell_type": "code",
   "execution_count": 3,
   "id": "e0818dc0",
   "metadata": {},
   "outputs": [
    {
     "data": {
      "text/plain": [
       "3000000"
      ]
     },
     "execution_count": 3,
     "metadata": {},
     "output_type": "execute_result"
    }
   ],
   "source": [
    "# setting the vocab and taking its length\n",
    "pretrained_vocab = set(pretrained_model.key_to_index)\n",
    "len(pretrained_vocab)"
   ]
  },
  {
   "cell_type": "code",
   "execution_count": 4,
   "id": "71e93dd3",
   "metadata": {},
   "outputs": [
    {
     "name": "stdout",
     "output_type": "stream",
     "text": [
      "4.1.2\n"
     ]
    }
   ],
   "source": [
    "import gensim\n",
    "print(gensim.__version__)"
   ]
  },
  {
   "cell_type": "code",
   "execution_count": 5,
   "id": "2a8fc8fe",
   "metadata": {},
   "outputs": [
    {
     "data": {
      "text/plain": [
       "12989"
      ]
     },
     "execution_count": 5,
     "metadata": {},
     "output_type": "execute_result"
    }
   ],
   "source": [
    "my_model_binary = gensim.models.Word2Vec.load(\"./my_model_binary_anlp_assignment2.model\")\n",
    "# setting the vocab and taking its length\n",
    "mymodel_vocab_binary = set(my_model_binary.wv.key_to_index)\n",
    "len(mymodel_vocab_binary)"
   ]
  },
  {
   "cell_type": "code",
   "execution_count": 6,
   "id": "199046ce",
   "metadata": {},
   "outputs": [
    {
     "data": {
      "text/plain": [
       "14255"
      ]
     },
     "execution_count": 6,
     "metadata": {},
     "output_type": "execute_result"
    }
   ],
   "source": [
    "my_model_ternary = gensim.models.Word2Vec.load(\"./my_model_ternary_anlp_assignment2.model\")\n",
    "# setting the vocab and taking its length\n",
    "mymodel_vocab_ternary = set(my_model_ternary.wv.key_to_index)\n",
    "len(mymodel_vocab_ternary)"
   ]
  },
  {
   "cell_type": "code",
   "execution_count": 7,
   "id": "2ab77863",
   "metadata": {},
   "outputs": [],
   "source": [
    "def remove_words(review , vocab):\n",
    "    nn =[]\n",
    "    for i in review:\n",
    "        if i in vocab:\n",
    "            nn.append(i)\n",
    "    return nn"
   ]
  },
  {
   "cell_type": "code",
   "execution_count": 8,
   "id": "676e07b1",
   "metadata": {},
   "outputs": [],
   "source": [
    "# creating the word embedding with limit of 50\n",
    "def adjust_len(review):\n",
    "    nn =[]\n",
    "    relen = len(review)\n",
    "    if relen > 20 :\n",
    "        for words in review[0:20]:\n",
    "            nn.append(words)\n",
    "    elif relen < 20 :\n",
    "        for words in review:\n",
    "            nn.append(words)\n",
    "        acc = 20 - relen\n",
    "        for i in range(acc):\n",
    "            nn.append(0)\n",
    "    elif relen == 20:\n",
    "        for words in review:\n",
    "            nn.append(words)\n",
    "    return nn"
   ]
  },
  {
   "cell_type": "code",
   "execution_count": 25,
   "id": "2ba76f45",
   "metadata": {},
   "outputs": [],
   "source": [
    "def embedded_vectors_fifty(sentences , vocab , model):\n",
    "    vectors_data=[]\n",
    "    for review in sentences:\n",
    "        vectors=[]\n",
    "        for words in review:\n",
    "            if words in vocab:\n",
    "                vectors.append(model[words])\n",
    "            else:\n",
    "                vectors.append(np.zeros(300))\n",
    "#         vectors = map(float , (vectors))\n",
    "        vectors_data.append(vectors)\n",
    "    return vectors_data "
   ]
  },
  {
   "cell_type": "code",
   "execution_count": 10,
   "id": "f5355cac",
   "metadata": {},
   "outputs": [],
   "source": [
    "def embedded_vectors_mymodel_fifty(sentences , vocab , model):\n",
    "    vectors_data=[]\n",
    "    for review in sentences:\n",
    "        vectors=[]\n",
    "        for words in review:\n",
    "            if words in vocab:\n",
    "                vectors.append(model.wv[words])\n",
    "            else:\n",
    "                vectors.append(np.zeros(300))\n",
    "        vectors_data.append(vectors)\n",
    "    return vectors_data "
   ]
  },
  {
   "cell_type": "code",
   "execution_count": 10,
   "id": "943400a1",
   "metadata": {},
   "outputs": [],
   "source": [
    "import torch\n",
    "import torch.nn as nn\n",
    "import torchvision.transforms as transforms\n",
    "from torch.utils.data import Dataset, DataLoader\n",
    "import torch.optim as optim \n",
    "import torch.nn.functional as F"
   ]
  },
  {
   "cell_type": "markdown",
   "id": "260e7ddc",
   "metadata": {},
   "source": [
    "# Part A"
   ]
  },
  {
   "cell_type": "markdown",
   "id": "586e2aa8",
   "metadata": {},
   "source": [
    "# Binary Classification"
   ]
  },
  {
   "cell_type": "code",
   "execution_count": 11,
   "id": "8c50e0e7",
   "metadata": {},
   "outputs": [],
   "source": [
    "class dds(Dataset):\n",
    "    def __init__(self,x,y):\n",
    "        self.x = x\n",
    "        self.y = y\n",
    "    def __getitem__(self , index):\n",
    "        return self.x[index] , self.y[index]\n",
    "    \n",
    "    def __len__(self):\n",
    "        return len(self.x)\n",
    "    "
   ]
  },
  {
   "cell_type": "code",
   "execution_count": 12,
   "id": "11cdef22",
   "metadata": {},
   "outputs": [],
   "source": [
    "class RNN(nn.Module):\n",
    "    def __init__(self, input_dim, hidden_dim, layer_dim, output_dim):\n",
    "        super(RNN, self).__init__()\n",
    "        # Hidden dimensions\n",
    "        self.hidden_dim = hidden_dim\n",
    "\n",
    "        # Number of hidden layers\n",
    "        self.layer_dim = layer_dim\n",
    "\n",
    "        # Building your RNN\n",
    "        # batch_first=True causes input/output tensors to be of shape\n",
    "        # (batch_dim, seq_dim, input_dim)\n",
    "        # batch_dim = number of samples per batch\n",
    "        self.rnn = nn.RNN(input_dim, hidden_dim, layer_dim, batch_first=True, nonlinearity='relu')\n",
    "\n",
    "        # Readout layer\n",
    "        self.fc = nn.Linear(hidden_dim, output_dim)\n",
    "\n",
    "    def forward(self, x):\n",
    "        h0 = torch.zeros(self.layer_dim, x.size(0), self.hidden_dim).requires_grad_()\n",
    "        out, hn = self.rnn(x, h0.detach())\n",
    "        out = self.fc(out[:, -1, :]) \n",
    "        # out.size() --> 100, 10\n",
    "        return out"
   ]
  },
  {
   "cell_type": "code",
   "execution_count": 13,
   "id": "fb90f920",
   "metadata": {},
   "outputs": [],
   "source": [
    "input_dim = 300 \n",
    "hidden_dim=50\n",
    "layer_dim=1\n",
    "output_dim =2 \n",
    "model = RNN(input_dim, hidden_dim, layer_dim, output_dim)"
   ]
  },
  {
   "cell_type": "code",
   "execution_count": 14,
   "id": "fdaf151f",
   "metadata": {},
   "outputs": [
    {
     "name": "stdout",
     "output_type": "stream",
     "text": [
      "RNN(\n",
      "  (rnn): RNN(300, 50, batch_first=True)\n",
      "  (fc): Linear(in_features=50, out_features=2, bias=True)\n",
      ")\n"
     ]
    }
   ],
   "source": [
    "\n",
    "criterion = nn.CrossEntropyLoss()\n",
    "learning_rate = 0.01\n",
    "print(model)\n",
    "optimizer = torch.optim.SGD(model.parameters(), lr=learning_rate)  "
   ]
  },
  {
   "cell_type": "markdown",
   "id": "9a087dba",
   "metadata": {},
   "source": [
    "# Pretrained Model"
   ]
  },
  {
   "cell_type": "code",
   "execution_count": 20,
   "id": "9be7d651",
   "metadata": {},
   "outputs": [],
   "source": [
    "binary = pd.read_csv(\"binary_dataset_labels01.csv\")\n",
    "from ast import literal_eval\n",
    "binary['Review'] = binary['Review'].apply(literal_eval)\n",
    "binary['Review'] = binary['Review'].apply(lambda x : remove_words(x ,pretrained_vocab ))\n",
    "binary = binary[binary['Review'].apply(lambda x : len(x) > 0)]\n",
    "binary['Review'] = binary['Review'].apply(lambda x : adjust_len(x))\n",
    "sent = binary['Review']\n",
    "\n"
   ]
  },
  {
   "cell_type": "code",
   "execution_count": 26,
   "id": "f34d142c",
   "metadata": {},
   "outputs": [],
   "source": [
    "vector_pmb = embedded_vectors_fifty(sent, pretrained_vocab, pretrained_model)\n",
    "from sklearn.model_selection import train_test_split"
   ]
  },
  {
   "cell_type": "code",
   "execution_count": 27,
   "id": "5ae7a72d",
   "metadata": {},
   "outputs": [],
   "source": [
    "X_train_pmb, X_test_pmb, y_train_pmb, y_test_pmb = train_test_split(vector_pmb, binary['Label'], random_state=42, test_size=0.2)"
   ]
  },
  {
   "cell_type": "code",
   "execution_count": 28,
   "id": "44dd9a3c",
   "metadata": {},
   "outputs": [
    {
     "data": {
      "text/plain": [
       "array([ 7.17773438e-02,  2.08007812e-01, -2.84423828e-02,  1.78710938e-01,\n",
       "        1.32812500e-01, -9.96093750e-02,  9.61914062e-02, -1.16699219e-01,\n",
       "       -8.54492188e-03,  1.48437500e-01, -3.34472656e-02, -1.85546875e-01,\n",
       "        4.10156250e-02, -8.98437500e-02,  2.17285156e-02,  6.93359375e-02,\n",
       "        1.80664062e-01,  2.22656250e-01, -1.00585938e-01, -6.93359375e-02,\n",
       "        1.04427338e-04,  1.60156250e-01,  4.07714844e-02,  7.37304688e-02,\n",
       "        1.53320312e-01,  6.78710938e-02, -1.03027344e-01,  4.17480469e-02,\n",
       "        4.27246094e-02, -1.10351562e-01, -6.68945312e-02,  4.19921875e-02,\n",
       "        2.50000000e-01,  2.12890625e-01,  1.59179688e-01,  1.44653320e-02,\n",
       "       -4.88281250e-02,  1.39770508e-02,  3.55529785e-03,  2.09960938e-01,\n",
       "        1.52343750e-01, -7.32421875e-02,  2.16796875e-01, -5.76171875e-02,\n",
       "       -2.84423828e-02, -3.60107422e-03,  1.52343750e-01, -2.63671875e-02,\n",
       "        2.13623047e-02, -1.51367188e-01,  1.04003906e-01,  3.18359375e-01,\n",
       "       -1.85546875e-01,  3.68652344e-02, -1.10839844e-01, -3.17382812e-02,\n",
       "       -1.01562500e-01, -1.21093750e-01,  3.22265625e-01, -7.32421875e-02,\n",
       "       -1.52343750e-01,  2.67578125e-01, -1.50390625e-01, -1.23046875e-01,\n",
       "        1.07910156e-01,  6.68945312e-02, -2.13623047e-02, -1.00585938e-01,\n",
       "       -2.05078125e-01,  1.17675781e-01,  6.15234375e-02,  6.78710938e-02,\n",
       "        1.06933594e-01, -7.71484375e-02, -1.52343750e-01, -4.24194336e-03,\n",
       "       -1.45507812e-01,  2.53906250e-01,  4.80957031e-02,  9.71679688e-02,\n",
       "       -8.36181641e-03,  1.12792969e-01,  5.34667969e-02,  1.79443359e-02,\n",
       "       -5.63964844e-02, -3.30078125e-01, -9.76562500e-02,  1.42578125e-01,\n",
       "       -1.37695312e-01,  2.20947266e-02,  1.00097656e-01, -5.71289062e-02,\n",
       "       -1.56250000e-01, -6.37817383e-03, -9.37500000e-02, -4.68750000e-02,\n",
       "        8.59375000e-02,  3.06640625e-01, -1.11328125e-01, -1.94335938e-01,\n",
       "       -2.08007812e-01,  8.10546875e-02, -4.19921875e-02, -8.30078125e-02,\n",
       "       -1.04003906e-01,  2.92968750e-01,  2.39257812e-02, -3.85742188e-02,\n",
       "        3.56445312e-02, -1.04980469e-01, -6.54296875e-02,  2.79296875e-01,\n",
       "       -1.16210938e-01, -1.45874023e-02,  3.84765625e-01, -7.81250000e-02,\n",
       "       -2.92968750e-02, -1.35742188e-01, -5.39550781e-02, -5.49316406e-02,\n",
       "       -8.10546875e-02, -2.88085938e-02,  8.34960938e-02,  2.73437500e-01,\n",
       "       -6.20117188e-02, -4.78515625e-02, -1.09252930e-02, -1.13769531e-01,\n",
       "       -1.09863281e-01,  2.02148438e-01, -1.28906250e-01, -6.68945312e-02,\n",
       "       -2.67578125e-01,  9.61914062e-02,  1.04003906e-01, -1.69921875e-01,\n",
       "        5.56640625e-02,  1.54296875e-01,  8.05664062e-02,  2.19726562e-01,\n",
       "       -2.27539062e-01,  1.10351562e-01, -8.11767578e-03, -5.63964844e-02,\n",
       "       -9.03320312e-02, -7.76367188e-02, -3.61328125e-02,  3.61328125e-02,\n",
       "        1.58203125e-01, -1.56250000e-01,  2.26562500e-01,  2.85156250e-01,\n",
       "       -5.51757812e-02,  3.53515625e-01, -1.20605469e-01,  1.05957031e-01,\n",
       "        3.11279297e-02, -1.91406250e-01, -2.31445312e-01, -1.11816406e-01,\n",
       "        2.38037109e-03,  7.51953125e-02, -1.28784180e-02,  1.00585938e-01,\n",
       "        4.45312500e-01, -2.77343750e-01,  6.68945312e-02, -8.10546875e-02,\n",
       "        6.39648438e-02,  1.85546875e-02, -1.11328125e-01,  9.76562500e-02,\n",
       "        2.06054688e-01, -1.30859375e-01,  2.39257812e-02,  1.10839844e-01,\n",
       "        8.05664062e-02, -1.52343750e-01,  4.85229492e-03,  1.84326172e-02,\n",
       "       -9.17968750e-02, -2.41210938e-01,  8.39843750e-02, -1.00585938e-01,\n",
       "       -1.54296875e-01,  2.75878906e-02, -1.64062500e-01, -1.01562500e-01,\n",
       "       -6.07299805e-03,  1.33514404e-03, -2.53906250e-01,  3.14453125e-01,\n",
       "        1.31835938e-01, -1.31835938e-01,  2.17285156e-02, -1.56250000e-01,\n",
       "       -1.46484375e-01, -5.12695312e-02, -1.20605469e-01, -2.15820312e-01,\n",
       "        3.10058594e-02,  1.30859375e-01,  9.71679688e-02,  5.67626953e-03,\n",
       "        2.20947266e-02,  1.26953125e-01, -1.24511719e-02,  6.15234375e-02,\n",
       "       -2.23388672e-02,  2.50000000e-01, -7.17773438e-02,  1.58203125e-01,\n",
       "       -7.27539062e-02,  1.97753906e-02,  8.85009766e-03, -9.08203125e-02,\n",
       "        3.63281250e-01, -9.03320312e-02,  2.41699219e-02, -1.39770508e-02,\n",
       "       -5.10253906e-02,  2.40478516e-02,  5.88989258e-03, -1.02050781e-01,\n",
       "       -8.85009766e-03,  3.05175781e-02, -7.81250000e-02, -1.27929688e-01,\n",
       "        3.85742188e-02,  2.86865234e-02, -2.28515625e-01, -1.25122070e-02,\n",
       "        1.54296875e-01,  9.13085938e-02,  1.05468750e-01, -6.44531250e-02,\n",
       "       -1.28906250e-01, -1.02050781e-01, -2.16064453e-02, -3.29589844e-02,\n",
       "        7.47070312e-02,  3.78417969e-02,  7.42187500e-02, -1.23901367e-02,\n",
       "       -4.68750000e-02,  4.88281250e-03,  1.03515625e-01, -8.69140625e-02,\n",
       "       -2.26562500e-01, -2.53906250e-01,  3.58886719e-02,  4.45312500e-01,\n",
       "        5.56640625e-02,  1.59179688e-01,  2.71484375e-01, -1.08398438e-01,\n",
       "        6.25000000e-02, -5.59082031e-02, -2.50000000e-01, -1.55273438e-01,\n",
       "       -6.83593750e-02, -1.39648438e-01, -1.59179688e-01, -1.79443359e-02,\n",
       "        2.12402344e-02,  7.37304688e-02,  1.30859375e-01, -8.05664062e-02,\n",
       "        2.99072266e-02,  1.55639648e-02, -1.66015625e-01,  1.50390625e-01,\n",
       "       -6.77490234e-03,  1.01318359e-02,  1.14746094e-01, -1.48437500e-01,\n",
       "       -4.58984375e-02, -1.39648438e-01, -1.73828125e-01, -4.27246094e-02,\n",
       "       -5.81054688e-02,  5.22460938e-02, -1.11328125e-01,  8.44726562e-02,\n",
       "       -2.55126953e-02,  1.40625000e-01, -1.81640625e-01,  1.72119141e-02,\n",
       "       -1.37695312e-01, -1.47705078e-02, -1.14746094e-02,  6.44531250e-02,\n",
       "       -2.89062500e-01, -4.80957031e-02, -1.99218750e-01, -7.12890625e-02,\n",
       "        6.44531250e-02, -1.67968750e-01, -2.08740234e-02, -1.42578125e-01],\n",
       "      dtype=float32)"
      ]
     },
     "execution_count": 28,
     "metadata": {},
     "output_type": "execute_result"
    }
   ],
   "source": [
    "vector_pmb[0][0]"
   ]
  },
  {
   "cell_type": "code",
   "execution_count": 29,
   "id": "e6eafc23",
   "metadata": {},
   "outputs": [
    {
     "data": {
      "text/plain": [
       "array([-0.00187683,  0.20214844,  0.15136719, -0.16503906,  0.03149414,\n",
       "        0.07421875,  0.16503906, -0.1953125 ,  0.28125   ,  0.19628906,\n",
       "       -0.23925781, -0.08398438, -0.04370117,  0.00291443,  0.00668335,\n",
       "        0.16113281,  0.19335938,  0.07128906,  0.12353516, -0.20507812,\n",
       "        0.30078125,  0.171875  ,  0.44726562, -0.08105469,  0.36132812,\n",
       "        0.12158203, -0.08251953,  0.02612305,  0.30664062, -0.13085938,\n",
       "       -0.0402832 ,  0.07910156, -0.09375   , -0.11328125,  0.16601562,\n",
       "       -0.09619141,  0.21191406,  0.19042969, -0.01318359,  0.21972656,\n",
       "        0.18945312, -0.06347656,  0.34375   , -0.3125    ,  0.24414062,\n",
       "       -0.00631714, -0.05273438,  0.09326172, -0.11474609, -0.04394531,\n",
       "       -0.140625  ,  0.05444336,  0.16308594, -0.00312805,  0.19140625,\n",
       "        0.21289062, -0.16503906, -0.06298828,  0.14257812, -0.296875  ,\n",
       "       -0.27929688,  0.31054688, -0.16503906,  0.11621094,  0.0703125 ,\n",
       "       -0.08056641,  0.06787109,  0.00738525, -0.11669922, -0.10791016,\n",
       "        0.14355469,  0.21484375, -0.02160645, -0.12158203, -0.453125  ,\n",
       "       -0.04467773, -0.02124023,  0.00561523,  0.38085938, -0.11767578,\n",
       "       -0.22265625,  0.09716797, -0.15039062,  0.06591797,  0.00558472,\n",
       "       -0.3203125 , -0.22167969,  0.22949219,  0.07275391, -0.14355469,\n",
       "        0.16210938,  0.18261719, -0.0123291 , -0.00823975, -0.22265625,\n",
       "       -0.05371094,  0.11474609,  0.07910156,  0.11865234, -0.13183594,\n",
       "       -0.40429688,  0.04125977, -0.0279541 , -0.02246094,  0.21972656,\n",
       "        0.05273438,  0.15039062,  0.0402832 ,  0.20703125, -0.10107422,\n",
       "       -0.21972656, -0.125     ,  0.00135803,  0.08349609,  0.03710938,\n",
       "       -0.44335938,  0.23046875, -0.14355469, -0.00878906,  0.11181641,\n",
       "       -0.31054688,  0.03808594, -0.14746094, -0.125     , -0.078125  ,\n",
       "       -0.35742188, -0.18847656,  0.09863281,  0.32617188, -0.28710938,\n",
       "       -0.25390625, -0.06591797, -0.33398438,  0.27929688, -0.12402344,\n",
       "       -0.25      , -0.09570312,  0.30078125,  0.07519531,  0.1484375 ,\n",
       "        0.01519775, -0.06176758, -0.04101562, -0.07617188, -0.06176758,\n",
       "        0.01068115, -0.30078125, -0.03613281, -0.00350952, -0.296875  ,\n",
       "        0.26757812,  0.07226562,  0.10644531, -0.00299072, -0.17578125,\n",
       "       -0.01647949, -0.01818848,  0.07861328, -0.29882812, -0.12207031,\n",
       "       -0.11279297,  0.00515747,  0.38671875,  0.16015625,  0.16894531,\n",
       "       -0.03222656,  0.07275391,  0.09667969, -0.01696777,  0.05688477,\n",
       "        0.2109375 ,  0.15820312, -0.12011719, -0.15136719, -0.02600098,\n",
       "        0.07519531,  0.19238281, -0.00836182, -0.08886719, -0.11962891,\n",
       "        0.15917969,  0.02661133,  0.03662109,  0.05688477, -0.21289062,\n",
       "       -0.11230469, -0.29101562,  0.07958984, -0.10009766,  0.09277344,\n",
       "        0.02624512, -0.06005859,  0.12060547, -0.03015137,  0.22753906,\n",
       "        0.0017395 ,  0.19042969, -0.09228516, -0.17773438, -0.04150391,\n",
       "       -0.21386719, -0.0234375 , -0.01452637,  0.06494141, -0.02307129,\n",
       "       -0.15429688, -0.33203125,  0.296875  , -0.22753906, -0.06103516,\n",
       "        0.19335938,  0.18847656,  0.10693359, -0.27929688, -0.16992188,\n",
       "        0.05029297,  0.22167969, -0.06201172,  0.01409912, -0.10644531,\n",
       "        0.02844238, -0.04833984, -0.16992188,  0.23242188,  0.06494141,\n",
       "       -0.4296875 ,  0.24121094, -0.14746094, -0.16210938, -0.02685547,\n",
       "       -0.08544922, -0.06787109, -0.17089844,  0.03710938,  0.21386719,\n",
       "        0.16601562,  0.10546875,  0.09667969,  0.1875    , -0.20019531,\n",
       "        0.140625  ,  0.03271484,  0.14160156, -0.02294922, -0.31054688,\n",
       "        0.03881836,  0.18554688,  0.20703125, -0.19433594,  0.02026367,\n",
       "        0.00195312,  0.17675781,  0.2578125 ,  0.08154297,  0.22265625,\n",
       "       -0.39648438,  0.11279297,  0.203125  ,  0.1484375 , -0.23535156,\n",
       "       -0.16601562,  0.14648438,  0.13574219,  0.00567627, -0.02270508,\n",
       "        0.12060547,  0.19726562,  0.06835938, -0.07714844,  0.00909424,\n",
       "       -0.0111084 ,  0.23339844,  0.32617188, -0.09765625, -0.07714844,\n",
       "       -0.33789062, -0.1875    ,  0.09863281, -0.10205078,  0.03466797,\n",
       "        0.03759766, -0.06445312, -0.1328125 ,  0.13378906,  0.19140625,\n",
       "        0.06298828,  0.00738525,  0.00253296, -0.12988281, -0.22753906,\n",
       "        0.09179688,  0.17382812, -0.10351562, -0.02392578, -0.07128906,\n",
       "       -0.03393555, -0.15332031, -0.05395508, -0.06933594, -0.13476562],\n",
       "      dtype=float32)"
      ]
     },
     "execution_count": 29,
     "metadata": {},
     "output_type": "execute_result"
    }
   ],
   "source": [
    "X_train_pmb[0][0]"
   ]
  },
  {
   "cell_type": "code",
   "execution_count": 20,
   "id": "d1cbd220",
   "metadata": {},
   "outputs": [],
   "source": [
    "# print(X_train_pmb[3][0])"
   ]
  },
  {
   "cell_type": "code",
   "execution_count": 21,
   "id": "a08e8318",
   "metadata": {},
   "outputs": [],
   "source": [
    "# X_test_pmb[3]"
   ]
  },
  {
   "cell_type": "code",
   "execution_count": 30,
   "id": "738c3fef",
   "metadata": {},
   "outputs": [
    {
     "ename": "RuntimeError",
     "evalue": "[enforce fail at ..\\c10\\core\\CPUAllocator.cpp:79] data. DefaultCPUAllocator: not enough memory: you tried to allocate 7673184000 bytes.",
     "output_type": "error",
     "traceback": [
      "\u001b[1;31m---------------------------------------------------------------------------\u001b[0m",
      "\u001b[1;31mRuntimeError\u001b[0m                              Traceback (most recent call last)",
      "\u001b[1;32m<ipython-input-30-890f21b493f4>\u001b[0m in \u001b[0;36m<module>\u001b[1;34m\u001b[0m\n\u001b[1;32m----> 1\u001b[1;33m \u001b[0mX_train_pmb\u001b[0m\u001b[1;33m,\u001b[0m \u001b[0mX_test_pmb\u001b[0m \u001b[1;33m=\u001b[0m \u001b[0mmap\u001b[0m\u001b[1;33m(\u001b[0m\u001b[0mtorch\u001b[0m\u001b[1;33m.\u001b[0m\u001b[0mtensor\u001b[0m \u001b[1;33m,\u001b[0m \u001b[1;33m(\u001b[0m\u001b[0mX_train_pmb\u001b[0m\u001b[1;33m,\u001b[0m \u001b[0mX_test_pmb\u001b[0m\u001b[1;33m)\u001b[0m\u001b[1;33m)\u001b[0m\u001b[1;33m\u001b[0m\u001b[1;33m\u001b[0m\u001b[0m\n\u001b[0m",
      "\u001b[1;31mRuntimeError\u001b[0m: [enforce fail at ..\\c10\\core\\CPUAllocator.cpp:79] data. DefaultCPUAllocator: not enough memory: you tried to allocate 7673184000 bytes."
     ]
    }
   ],
   "source": [
    "X_train_pmb, X_test_pmb = map(torch.tensor , (X_train_pmb, X_test_pmb))"
   ]
  },
  {
   "cell_type": "code",
   "execution_count": 23,
   "id": "711ac270",
   "metadata": {},
   "outputs": [],
   "source": [
    "X_train_pmb = X_train_pmb.float()\n",
    "X_test_pmb = X_test_pmb.float()"
   ]
  },
  {
   "cell_type": "code",
   "execution_count": 24,
   "id": "ab82cbeb",
   "metadata": {},
   "outputs": [],
   "source": [
    "# X_train_pmb = torch.tensor(X_train_pmb,dtype=torch.long)\n",
    "# X_test_pmb = torch.tensor(X_test_pmb,dtype=torch.long)"
   ]
  },
  {
   "cell_type": "code",
   "execution_count": 25,
   "id": "cf2fb552",
   "metadata": {},
   "outputs": [
    {
     "data": {
      "text/plain": [
       "torch.float64"
      ]
     },
     "execution_count": 25,
     "metadata": {},
     "output_type": "execute_result"
    }
   ],
   "source": [
    "X_train_pmb.dtype"
   ]
  },
  {
   "cell_type": "code",
   "execution_count": 26,
   "id": "60b04b6e",
   "metadata": {},
   "outputs": [],
   "source": [
    "y_train_pmb = torch.tensor(y_train_pmb.values)\n",
    "y_test_pmb = torch.tensor(y_test_pmb.values)"
   ]
  },
  {
   "cell_type": "code",
   "execution_count": 27,
   "id": "89c83228",
   "metadata": {},
   "outputs": [],
   "source": [
    "mydata_train_pmb = dds(X_train_pmb,y_train_pmb)\n",
    "mydata_test_pmb = dds(X_test_pmb , y_test_pmb)"
   ]
  },
  {
   "cell_type": "code",
   "execution_count": 28,
   "id": "fb597686",
   "metadata": {},
   "outputs": [],
   "source": [
    "train_loader_pmb = DataLoader( dataset = mydata_train_pmb)\n",
    "test_loader_pmb = DataLoader(dataset = mydata_test_pmb)"
   ]
  },
  {
   "cell_type": "code",
   "execution_count": 31,
   "id": "881348e0",
   "metadata": {},
   "outputs": [
    {
     "ename": "NameError",
     "evalue": "name 'train_loader_pmb' is not defined",
     "output_type": "error",
     "traceback": [
      "\u001b[1;31m---------------------------------------------------------------------------\u001b[0m",
      "\u001b[1;31mNameError\u001b[0m                                 Traceback (most recent call last)",
      "\u001b[1;32m<ipython-input-31-8a6bee75d922>\u001b[0m in \u001b[0;36m<module>\u001b[1;34m\u001b[0m\n\u001b[0;32m      3\u001b[0m \u001b[0mmodel\u001b[0m \u001b[1;33m=\u001b[0m \u001b[0mmodel\u001b[0m\u001b[1;33m.\u001b[0m\u001b[0mdouble\u001b[0m\u001b[1;33m(\u001b[0m\u001b[1;33m)\u001b[0m\u001b[1;33m\u001b[0m\u001b[1;33m\u001b[0m\u001b[0m\n\u001b[0;32m      4\u001b[0m \u001b[1;32mfor\u001b[0m \u001b[0mepoch\u001b[0m \u001b[1;32min\u001b[0m \u001b[0mrange\u001b[0m\u001b[1;33m(\u001b[0m\u001b[0mepochs\u001b[0m\u001b[1;33m)\u001b[0m\u001b[1;33m:\u001b[0m\u001b[1;33m\u001b[0m\u001b[1;33m\u001b[0m\u001b[0m\n\u001b[1;32m----> 5\u001b[1;33m     \u001b[1;32mfor\u001b[0m \u001b[0mfeatures\u001b[0m \u001b[1;33m,\u001b[0m \u001b[0mtargets\u001b[0m \u001b[1;32min\u001b[0m \u001b[0mtrain_loader_pmb\u001b[0m\u001b[1;33m:\u001b[0m\u001b[1;33m\u001b[0m\u001b[1;33m\u001b[0m\u001b[0m\n\u001b[0m\u001b[0;32m      6\u001b[0m \u001b[1;31m#         features = features.double()\u001b[0m\u001b[1;33m\u001b[0m\u001b[1;33m\u001b[0m\u001b[1;33m\u001b[0m\u001b[0m\n\u001b[0;32m      7\u001b[0m \u001b[1;31m#         print(features)\u001b[0m\u001b[1;33m\u001b[0m\u001b[1;33m\u001b[0m\u001b[1;33m\u001b[0m\u001b[0m\n",
      "\u001b[1;31mNameError\u001b[0m: name 'train_loader_pmb' is not defined"
     ]
    }
   ],
   "source": [
    "# \n",
    "epochs = 10\n",
    "model = model.double()\n",
    "for epoch in range(epochs):\n",
    "    for features , targets in train_loader_pmb:\n",
    "#         features = features.double()\n",
    "#         print(features)\n",
    "        output = model.forward(features)\n",
    "#         print(output.size())\n",
    "#         print(output)\n",
    "#         print(targets.squeeze(1).size())\n",
    "        loss = criterion(output , targets.squeeze(1).long().view(1,-1))\n",
    "        optimizer.zero_grad()\n",
    "        loss.backward()\n",
    "        optimizer.step()\n",
    "    model.eval()\n",
    "    \n",
    "    c = torch.argmax(output.data ,dim =1)\n",
    "    train_accuracy = (c == targets).sum().item()/targets.shape[0]\n",
    "    #print('Epoch Number {0} accuracy'.format(epoch) , train_accuracy)\n",
    "    for featuress , targetss in test_loader_pmb:\n",
    "        predict =model.forward(featuress)\n",
    "        \n",
    "    c1 = torch.argmax(predict.data ,dim =1)\n",
    "    test_accuracy = (c1 == targetss).sum().item()/targetss.shape[0]\n",
    "    print(\"Epoch {}/{} , Loss = {:.4f} , Train accuracy = {:.4f} , Test accuracy = {:.4f} \".format(\n",
    "    epoch,epochs, loss, train_accuracy, test_accuracy \n",
    "    ))\n",
    "    model.train()"
   ]
  },
  {
   "cell_type": "markdown",
   "id": "e48b784c",
   "metadata": {},
   "source": [
    "# Binary Model"
   ]
  },
  {
   "cell_type": "code",
   "execution_count": null,
   "id": "83f8a012",
   "metadata": {},
   "outputs": [],
   "source": []
  },
  {
   "cell_type": "code",
   "execution_count": null,
   "id": "532234e6",
   "metadata": {},
   "outputs": [],
   "source": []
  },
  {
   "cell_type": "code",
   "execution_count": null,
   "id": "0526511c",
   "metadata": {},
   "outputs": [],
   "source": []
  },
  {
   "cell_type": "markdown",
   "id": "809e8da4",
   "metadata": {},
   "source": [
    "# Ternary Classification"
   ]
  },
  {
   "cell_type": "markdown",
   "id": "7d39d5a8",
   "metadata": {},
   "source": [
    "# Pretrained Model"
   ]
  },
  {
   "cell_type": "markdown",
   "id": "00517777",
   "metadata": {},
   "source": [
    "# Ternary Model"
   ]
  },
  {
   "cell_type": "markdown",
   "id": "a3c798dd",
   "metadata": {},
   "source": [
    "# Part B"
   ]
  },
  {
   "cell_type": "code",
   "execution_count": null,
   "id": "1f57618e",
   "metadata": {},
   "outputs": [],
   "source": [
    "class GRUModel(nn.Module):\n",
    "    def __init__(self, input_dim, hidden_dim, layer_dim, output_dim):\n",
    "        super(GRUModel, self).__init__()\n",
    "        # Hidden dimensions\n",
    "        self.hidden_dim = hidden_dim\n",
    "\n",
    "        # Number of hidden layers\n",
    "        self.layer_dim = layer_dim\n",
    "\n",
    "        # Building your RNN\n",
    "        # batch_first=True causes input/output tensors to be of shape\n",
    "        # (batch_dim, seq_dim, input_dim)\n",
    "        # batch_dim = number of samples per batch\n",
    "        self.gru = nn.GRU(input_dim, hidden_dim, layer_dim)\n",
    "\n",
    "        # Readout layer\n",
    "        self.fc = nn.Linear(hidden_dim, output_dim)\n",
    "\n",
    "    def forward(self, x):\n",
    "        # Initialize hidden state with zeros\n",
    "        # (layer_dim, batch_size, hidden_dim)\n",
    "        h0 = torch.zeros(self.layer_dim, x.size(0), self.hidden_dim).requires_grad_()\n",
    "\n",
    "        # We need to detach the hidden state to prevent exploding/vanishing gradients\n",
    "        # This is part of truncated backpropagation through time (BPTT)\n",
    "        out, hn = self.gru(x, h0.detach()) \n",
    "        out = self.fc(out[:, -1, :]) \n",
    "        return out"
   ]
  },
  {
   "cell_type": "code",
   "execution_count": null,
   "id": "13ef1089",
   "metadata": {},
   "outputs": [],
   "source": [
    "input_dim = 300 \n",
    "hidden_dim=50\n",
    "layer_dim=1\n",
    "output_dim =2 \n",
    "model3 = GRUModel(input_dim, hidden_dim, layer_dim, output_dim)"
   ]
  },
  {
   "cell_type": "markdown",
   "id": "3e72d6bf",
   "metadata": {},
   "source": [
    "# Binary Classification"
   ]
  },
  {
   "cell_type": "markdown",
   "id": "d271102a",
   "metadata": {},
   "source": [
    "# Pretrained Model"
   ]
  },
  {
   "cell_type": "markdown",
   "id": "1b6e19a5",
   "metadata": {},
   "source": [
    "# Binary Model"
   ]
  },
  {
   "cell_type": "markdown",
   "id": "e168e1e1",
   "metadata": {},
   "source": [
    "# Ternary Classification"
   ]
  },
  {
   "cell_type": "code",
   "execution_count": null,
   "id": "8f8b4379",
   "metadata": {},
   "outputs": [],
   "source": [
    "input_dim = 300 \n",
    "hidden_dim=50\n",
    "layer_dim=1\n",
    "output_dim =3\n",
    "model3 = GRUModel(input_dim, hidden_dim, layer_dim, output_dim)"
   ]
  },
  {
   "cell_type": "markdown",
   "id": "57828a6b",
   "metadata": {},
   "source": [
    "# Pretrained Model"
   ]
  },
  {
   "cell_type": "markdown",
   "id": "29005051",
   "metadata": {},
   "source": [
    "# Ternary Model"
   ]
  },
  {
   "cell_type": "code",
   "execution_count": null,
   "id": "2f5c483b",
   "metadata": {},
   "outputs": [],
   "source": []
  },
  {
   "cell_type": "code",
   "execution_count": null,
   "id": "e95cff50",
   "metadata": {},
   "outputs": [],
   "source": []
  }
 ],
 "metadata": {
  "kernelspec": {
   "display_name": "Python 3",
   "language": "python",
   "name": "python3"
  },
  "language_info": {
   "codemirror_mode": {
    "name": "ipython",
    "version": 3
   },
   "file_extension": ".py",
   "mimetype": "text/x-python",
   "name": "python",
   "nbconvert_exporter": "python",
   "pygments_lexer": "ipython3",
   "version": "3.8.8"
  }
 },
 "nbformat": 4,
 "nbformat_minor": 5
}
